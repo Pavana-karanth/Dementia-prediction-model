{
 "cells": [
  {
   "cell_type": "code",
   "execution_count": 13,
   "id": "dd9b1e0f",
   "metadata": {},
   "outputs": [],
   "source": [
    "import streamlit as st\n",
    "from joblib import load\n",
    "import pandas as pd\n",
    "\n",
    "best_dt_model = load('best_decision_tree_model.joblib')\n",
    "best_rf_model = load('best_random_forest_model.joblib')\n",
    "\n",
    "X = load('X.joblib')\n",
    "# Streamlit UI\n",
    "st.title('Predicting Dementia, A model to predict the chances of anyone getting demetia :)')\n",
    "\n",
    "# Get user input\n",
    "diabetic = st.slider(\"Diabetic (1 for yes, 0 for no):\", 0, 1, 0)\n",
    "body_temperature = st.slider(\"Body Temperature:\", 35.0, 40.0, 36.8)\n",
    "blood_oxygen_level = st.slider(\"Blood Oxygen Level:\", 90.0, 100.0, 95.5)\n",
    "weight = st.slider(\"Weight:\", 50, 150, 70)\n",
    "mri_delay = st.slider(\"MRI Delay (in minutes):\", 0, 60, 25)\n",
    "heart_rate = st.slider(\"Heart Rate:\", 60, 100, 75)\n",
    "alcohol_level = st.slider(\"Alcohol Level:\", 0.0, 1.0, 0.12)\n",
    "\n",
    "# Make predictions when a button is clicked\n",
    "if st.button('Make Predictions'):\n",
    "    # Create a dictionary with user input\n",
    "    user_input = {\n",
    "        'Diabetic': diabetic,\n",
    "        'BodyTemperature': body_temperature,\n",
    "        'BloodOxygenLevel': blood_oxygen_level,\n",
    "        'Weight': weight,\n",
    "        'MRI_Delay': mri_delay,\n",
    "        'HeartRate': heart_rate,\n",
    "        'AlcoholLevel': alcohol_level\n",
    "    }\n",
    "\n",
    "    # Convert user input to a DataFrame\n",
    "    user_df = pd.DataFrame([user_input])\n",
    "\n",
    "    # Ensure columns in user_df are in the same order as X\n",
    "    user_df = user_df[X.columns]\n",
    "\n",
    "    # Make predictions\n",
    "    dt_prediction = best_dt_model.predict(user_df)[0]\n",
    "    rf_prediction = best_rf_model.predict(user_df)[0]\n",
    "\n",
    "    # Display predictions\n",
    "    st.write(f\"Prediction according to decision Tree: {dt_prediction}\")\n",
    "    st.write(f\"Prediction according to Random Forest: {rf_prediction}\")\n",
    "    st.write(\"Note: 1 and 0 indicate the likelihood of dementia, 1 being yes, there's chances of having dementia and 0 being there's no chances of having demetia.\")\n"
   ]
  },
  {
   "cell_type": "code",
   "execution_count": 16,
   "id": "da433957",
   "metadata": {},
   "outputs": [
    {
     "data": {
      "text/plain": [
       "CompletedProcess(args=['jupyter', 'nbconvert', '--to', 'script', 'Dementia_prediction_model.ipynb'], returncode=0)"
      ]
     },
     "execution_count": 16,
     "metadata": {},
     "output_type": "execute_result"
    }
   ],
   "source": [
    "import subprocess\n",
    "\n",
    "# Run the nbconvert command\n",
    "subprocess.run(['jupyter', 'nbconvert', '--to', 'script', 'Dementia_prediction_model.ipynb'])\n"
   ]
  },
  {
   "cell_type": "code",
   "execution_count": null,
   "id": "8b92b4bb",
   "metadata": {},
   "outputs": [],
   "source": []
  }
 ],
 "metadata": {
  "kernelspec": {
   "display_name": "Python 3 (ipykernel)",
   "language": "python",
   "name": "python3"
  },
  "language_info": {
   "codemirror_mode": {
    "name": "ipython",
    "version": 3
   },
   "file_extension": ".py",
   "mimetype": "text/x-python",
   "name": "python",
   "nbconvert_exporter": "python",
   "pygments_lexer": "ipython3",
   "version": "3.11.5"
  }
 },
 "nbformat": 4,
 "nbformat_minor": 5
}
